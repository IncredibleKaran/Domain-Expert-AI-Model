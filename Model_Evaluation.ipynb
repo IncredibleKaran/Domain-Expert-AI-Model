{
  "cells": [
    {
      "cell_type": "markdown",
      "metadata": {},
      "source": [
        "# LLM Model Evaluation"
      ]
    },
    {
      "cell_type": "markdown",
      "metadata": {},
      "source": [
        "## Setup"
      ]
    },
    {
      "cell_type": "code",
      "execution_count": 1,
      "metadata": {
        "tags": []
      },
      "outputs": [],
      "source": [
        "!pip install ipywidgets==7.0.0 --quiet\n",
        "!pip install --upgrade sagemaker datasets --quiet"
      ]
    },
    {
      "cell_type": "markdown",
      "metadata": {},
      "source": [
        "## Authenticate with AWS"
      ]
    },
    {
      "cell_type": "code",
      "execution_count": 2,
      "metadata": {
        "tags": []
      },
      "outputs": [],
      "source": [
        "import sagemaker, boto3, json\n",
        "from sagemaker.session import Session\n",
        "\n",
        "sagemaker_session = Session()\n",
        "aws_role = sagemaker_session.get_caller_identity_arn()\n",
        "aws_region = boto3.Session().region_name\n",
        "sess = sagemaker.Session()\n",
        "print(aws_role)\n",
        "print(aws_region)\n",
        "print(sess)"
      ]
    },
    {
      "cell_type": "markdown",
      "metadata": {},
      "source": [
        "## Select Text Generation Model"
      ]
    },
    {
      "cell_type": "code",
      "execution_count": 4,
      "metadata": {
        "tags": []
      },
      "outputs": [],
      "source": [
        "(model_id, model_version,) = (\"meta-textgeneration-llama-2-7b\",\"2.*\",)"
      ]
    },
    {
      "cell_type": "markdown",
      "metadata": {},
      "source": [
        "## Deploy Model"
      ]
    },
    {
      "cell_type": "code",
      "execution_count": 8,
      "metadata": {
        "tags": []
      },
      "outputs": [],
      "source": [
        "from sagemaker.jumpstart.model import JumpStartModel\n",
        "\n",
        "model = JumpStartModel(model_id=model_id, model_version=model_version, instance_type=\"ml.g5.2xlarge\")\n",
        "predictor = model.deploy()"
      ]
    },
    {
      "cell_type": "markdown",
      "metadata": {},
      "source": [
        "## Invoke Endpoint and Parse Response"
      ]
    },
    {
      "cell_type": "code",
      "execution_count": 6,
      "metadata": {
        "tags": []
      },
      "outputs": [],
      "source": [
        "def print_response(payload, response):\n",
        "    print(payload[\"inputs\"])\n",
        "    print(f\"> {response[0]['generation']}\")\n",
        "    print(\"\\n==================================\\n\")"
      ]
    },
    {
      "cell_type": "code",
      "execution_count": 9,
      "metadata": {
        "tags": []
      },
      "outputs": [],
      "source": [
        "payload = {\n",
        "    \"inputs\": \"Traditional approaches to data management such as\",\n",
        "    \"parameters\": {\n",
        "        \"max_new_tokens\": 64,\n",
        "        \"top_p\": 0.9,\n",
        "        \"temperature\": 0.6,\n",
        "        \"return_full_text\": False,\n",
        "    },\n",
        "}\n",
        "try:\n",
        "    response = predictor.predict(payload, custom_attributes=\"accept_eula=true\")\n",
        "    print_response(payload, response)\n",
        "except Exception as e:\n",
        "    print(e)"
      ]
    },
    {
      "cell_type": "markdown",
      "metadata": {},
      "source": [
        "## Delete Model Deployment"
      ]
    },
    {
      "cell_type": "code",
      "execution_count": null,
      "metadata": {
        "tags": []
      },
      "outputs": [],
      "source": [
        "predictor.delete_model()\n",
        "predictor.delete_endpoint()"
      ]
    },
    {
      "cell_type": "markdown",
      "metadata": {},
      "source": [
        "Verify your model endpoint was deleted by visiting the Sagemaker dashboard and choosing 'endpoints' under 'Inference' in the left navigation menu.  
{
  "cell_type": "markdown",
  "metadata": {},
  "source": [
    "## Verify Deletion\n",
    "If the endpoint still exists, follow these steps to delete it:\n",
    "1. Go to the SageMaker dashboard\n",
    "2. Click on 'Inference' in the left navigation menu\n",
    "3. Select 'Endpoints'\n",
    "4. Choose the endpoint you want to delete\n",
    "5. Click on 'Actions' and select **Delete**"
  ]
}
